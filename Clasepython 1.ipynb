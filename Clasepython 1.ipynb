a = int(input("Digitar la edad en años"))
type(a)
if a >= 0 and a <= 20:
  print("De acuerdo a su edad eres joven")
else:
  print(f"El numero {a} ingresado esta fuera de rango")
print("/"*4)
